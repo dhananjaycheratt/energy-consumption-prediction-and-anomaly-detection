{
 "cells": [
  {
   "cell_type": "code",
   "execution_count": null,
   "id": "e5efe6d7",
   "metadata": {},
   "outputs": [],
   "source": [
    "import pandas as pd\n",
    "data=pd.read_csv(r\"C:\\Users\\denil\\OneDrive\\Documents\\PJME_hourly.csv\")\n",
    "data['Datetime']=pd.to_datetime(data['Datetime'])\n",
    "data.head()"
   ]
  },
  {
   "cell_type": "code",
   "execution_count": null,
   "id": "cffe57dc",
   "metadata": {},
   "outputs": [],
   "source": [
    "# Define a function to check if a date is a holiday\n",
    "def is_holiday(date):\n",
    "    holiday_dates = [\"01-01\",\"04-07\",\"11-28\",\"11-27\",\"11-26\",\"11-25\",\"11-24\",\"11-23\",\"11-22\",\"12-25\",\"05-25\",\"05-26\",\"05-27\",\"05-28\",\"05-29\",\"05-30\",\"05-31\",\"09-01\",\"09-02\",\"09-03\",\"09-04\",\"09-05\",\"09-06\",\"09-07\"] # Add your holiday dates here\n",
    "    return date.strftime(\"%m-%d\") in holiday_dates\n",
    "\n",
    "# Filter out rows that are holidays\n",
    "filtered_data_df = data[~data[\"Datetime\"].apply(lambda x: is_holiday(pd.to_datetime(x, format=\"%m-%d\")))]\n",
    "\n",
    "print(filtered_data_df)"
   ]
  },
  {
   "cell_type": "code",
   "execution_count": null,
   "id": "a8e9f695",
   "metadata": {},
   "outputs": [],
   "source": [
    "data['MA48'] = data['PJME_MW'].rolling(48).mean()\n",
    "data['MA336'] = data['PJME_MW'].rolling(336).mean()\n",
    "# plot\n",
    "import plotly.express as px\n",
    "fig = px.line(data, x=\"Datetime\", y=['PJME_MW', 'MA48', 'MA336'], title='energy consumption', template = 'plotly_dark')\n",
    "fig.show()"
   ]
  },
  {
   "cell_type": "code",
   "execution_count": null,
   "id": "314e503c",
   "metadata": {},
   "outputs": [],
   "source": [
    "# drop moving-average columns\n",
    "data.drop(['MA48', 'MA336'], axis=1, inplace=True)\n",
    "# set timestamp to index\n",
    "data.set_index('Datetime', drop=True, inplace=True)\n",
    "# resample timeseries to hourly\n",
    "data = data.resample('H').sum()\n",
    "# creature features from date\n",
    "data['day'] = [i.day for i in data.index]\n",
    "data['day_name'] = [i.day_name() for i in data.index]\n",
    "data['day_of_year'] = [i.dayofyear for i in data.index]\n",
    "data['week_of_year'] = [i.weekofyear for i in data.index]\n",
    "data['hour'] = [i.hour for i in data.index]\n",
    "data['is_weekday'] = [i.isoweekday() for i in data.index]\n",
    "data.head()"
   ]
  },
  {
   "cell_type": "code",
   "execution_count": null,
   "id": "f4993753",
   "metadata": {},
   "outputs": [],
   "source": [
    "pip install pycaret"
   ]
  },
  {
   "cell_type": "code",
   "execution_count": null,
   "id": "d135f089",
   "metadata": {},
   "outputs": [],
   "source": [
    "from pycaret.anomaly import *\n",
    "s = setup(data, session_id = 123)"
   ]
  },
  {
   "cell_type": "code",
   "execution_count": null,
   "id": "5ba95819",
   "metadata": {},
   "outputs": [],
   "source": [
    "models()"
   ]
  },
  {
   "cell_type": "code",
   "execution_count": null,
   "id": "8a0a3b4d",
   "metadata": {},
   "outputs": [],
   "source": [
    "iforest = create_model('iforest', fraction = 0.1)\n",
    "iforest_results = assign_model(iforest)\n",
    "iforest_results.head()"
   ]
  },
  {
   "cell_type": "code",
   "execution_count": null,
   "id": "908e6a78",
   "metadata": {},
   "outputs": [],
   "source": [
    "iforest_results[iforest_results['Anomaly'] == 1].head()"
   ]
  },
  {
   "cell_type": "code",
   "execution_count": null,
   "id": "96854ff8",
   "metadata": {},
   "outputs": [],
   "source": [
    "import plotly.graph_objects as go\n",
    "# plot value on y-axis and date on x-axis\n",
    "fig = px.line(iforest_results, x=iforest_results.index, y=\"PJME_MW\", title='Energy consumption - Isolation Forest', template = 'plotly_dark')\n",
    "# create list of outlier_dates\n",
    "outlier_dates = iforest_results[iforest_results['Anomaly'] == 1].index\n",
    "# obtain y value of anomalies to plot\n",
    "y_values = [iforest_results.loc[i][\"PJME_MW\"] for i in outlier_dates]\n",
    "fig.add_trace(go.Scatter(x=outlier_dates, y=y_values, mode = 'markers',\n",
    "                name = 'Anomaly',\n",
    "                marker=dict(color='red',size=10)))\n",
    "\n",
    "fig.show()"
   ]
  },
  {
   "cell_type": "code",
   "execution_count": null,
   "id": "382eb64a",
   "metadata": {
    "scrolled": true
   },
   "outputs": [],
   "source": [
    "histogram = create_model('histogram', fraction = 0.1)\n",
    "histogram_results = assign_model(histogram)\n",
    "histogram_results.head()"
   ]
  },
  {
   "cell_type": "code",
   "execution_count": null,
   "id": "a911b8cd",
   "metadata": {},
   "outputs": [],
   "source": [
    "histogram_results[histogram_results['Anomaly'] == 1].head()"
   ]
  },
  {
   "cell_type": "code",
   "execution_count": null,
   "id": "cb11bb4e",
   "metadata": {},
   "outputs": [],
   "source": [
    "import plotly.graph_objects as go\n",
    "# plot value on y-axis and date on x-axis\n",
    "fig = px.line(histogram_results, x=histogram_results.index, y=\"PJME_MW\", title='Energy consumption -Histogram based outlier detection ', template = 'plotly_dark')\n",
    "# create list of outlier_dates\n",
    "outlier_dates = histogram_results[histogram_results['Anomaly'] == 1].index\n",
    "# obtain y value of anomalies to plot\n",
    "y_values = [histogram_results.loc[i][\"PJME_MW\"] for i in outlier_dates]\n",
    "fig.add_trace(go.Scatter(x=outlier_dates, y=y_values, mode = 'markers',\n",
    "                name = 'Anomaly',\n",
    "                marker=dict(color='red',size=10)))\n",
    "\n",
    "fig.show()"
   ]
  },
  {
   "cell_type": "code",
   "execution_count": null,
   "id": "354613d0",
   "metadata": {},
   "outputs": [],
   "source": [
    "lof = create_model('lof', fraction = 0.1)\n",
    "lof_results = assign_model(lof)\n",
    "lof_results.head()"
   ]
  },
  {
   "cell_type": "code",
   "execution_count": null,
   "id": "477c1b0b",
   "metadata": {},
   "outputs": [],
   "source": [
    "lof_results[lof_results['Anomaly'] == 1].head()"
   ]
  },
  {
   "cell_type": "code",
   "execution_count": null,
   "id": "e7f16451",
   "metadata": {},
   "outputs": [],
   "source": [
    "import plotly.graph_objects as go\n",
    "\n",
    "# plot value on y-axis and date on x-axis\n",
    "fig = px.line(lof_results, x=lof_results.index, y=\"PJME_MW\", title='Energy consumption - Local outlier factor', template = 'plotly_dark')\n",
    "# create list of outlier_dates\n",
    "outlier_dates = lof_results[lof_results['Anomaly'] == 1].index\n",
    "# obtain y value of anomalies to plot\n",
    "y_values = [lof_results.loc[i][\"PJME_MW\"] for i in outlier_dates]\n",
    "fig.add_trace(go.Scatter(x=outlier_dates, y=y_values, mode = 'markers',\n",
    "                name = 'Anomaly',\n",
    "                marker=dict(color='red',size=10)))\n",
    "\n",
    "fig.show()"
   ]
  },
  {
   "cell_type": "code",
   "execution_count": null,
   "id": "8945245a",
   "metadata": {},
   "outputs": [],
   "source": [
    "outlier_dates"
   ]
  },
  {
   "cell_type": "code",
   "execution_count": null,
   "id": "0da157f2",
   "metadata": {},
   "outputs": [],
   "source": [
    "import plotly.graph_objects as go\n",
    "import pandas as pd\n",
    "import plotly.express as px\n",
    "\n",
    "# Assuming you have the 'lof_results' DataFrame with 'Anomaly' column and index as dates\n",
    "# You might need to adjust the column names accordingly\n",
    "\n",
    "# Filter out rows where 'day_name' is 'saturday' or 'sunday'\n",
    "lof_results['day_name'] = lof_results.index.day_name().str.lower()\n",
    "filtered_outlier_dates = lof_results[(lof_results['Anomaly'] == 1) & (lof_results['day_name'] != 'saturday') & (lof_results['day_name'] != 'sunday')].index\n",
    "\n",
    "# Create the plot\n",
    "fig = px.line(lof_results, x=lof_results.index, y=\"PJME_MW\", title='Energy consumption - Local outlier factor', template='plotly_dark')\n",
    "\n",
    "# Obtain y value of filtered anomalies to plot\n",
    "filtered_y_values = [lof_results.loc[i][\"PJME_MW\"] for i in filtered_outlier_dates]\n",
    "fig.add_trace(go.Scatter(x=filtered_outlier_dates, y=filtered_y_values, mode='markers',\n",
    "                name='Anomaly',\n",
    "                marker=dict(color='red', size=10)))\n",
    "\n",
    "fig.show()"
   ]
  },
  {
   "cell_type": "code",
   "execution_count": null,
   "id": "cacfab5d",
   "metadata": {},
   "outputs": [],
   "source": []
  },
  {
   "cell_type": "code",
   "execution_count": null,
   "id": "e12dedc3",
   "metadata": {
    "scrolled": true
   },
   "outputs": [],
   "source": [
    "filtered_outlier_dates"
   ]
  },
  {
   "cell_type": "code",
   "execution_count": null,
   "id": "63a3202e",
   "metadata": {},
   "outputs": [],
   "source": [
    "new_df=lof_results[(lof_results['Anomaly'] == 1) & (lof_results['day_name'] != 'saturday') & (lof_results['day_name'] != 'sunday')]\n",
    "new_df"
   ]
  },
  {
   "cell_type": "code",
   "execution_count": null,
   "id": "db10913c",
   "metadata": {},
   "outputs": [],
   "source": [
    "index = new_df.index\n",
    "print(index)"
   ]
  },
  {
   "cell_type": "code",
   "execution_count": null,
   "id": "70986b2b",
   "metadata": {
    "scrolled": true
   },
   "outputs": [],
   "source": [
    "import pandas as pd\n",
    "\n",
    "# Assuming your data is loaded into a DataFrame named 'df'\n",
    "result =  new_df[( new_df['PJME_MW'] > 45000) | ( new_df['PJME_MW'] < 20000)]\n",
    "result"
   ]
  },
  {
   "cell_type": "code",
   "execution_count": null,
   "id": "db5692f2",
   "metadata": {},
   "outputs": [],
   "source": [
    "result.reset_index(inplace=True)\n",
    "print(result)"
   ]
  },
  {
   "cell_type": "code",
   "execution_count": null,
   "id": "bc0ccd5d",
   "metadata": {},
   "outputs": [],
   "source": [
    "import pandas as pd\n",
    "\n",
    "# Assuming your data is loaded into a DataFrame named 'df'\n",
    "result['date_only'] = result['Datetime'].dt.date\n",
    "result\n"
   ]
  },
  {
   "cell_type": "code",
   "execution_count": null,
   "id": "bdfffd2f",
   "metadata": {},
   "outputs": [],
   "source": []
  },
  {
   "cell_type": "code",
   "execution_count": null,
   "id": "84fe0e2d",
   "metadata": {},
   "outputs": [],
   "source": [
    "import pandas as pd\n",
    "\n",
    "# Assuming your data is loaded into a DataFrame named 'df'\n",
    "# Create a new DataFrame from a single column\n",
    "column_name = 'date_only'\n",
    "ne_dataframe = pd.DataFrame(result[column_name])\n",
    "\n",
    "# Reset index if needed\n",
    "ne_dataframe_reset = ne_dataframe.reset_index(drop=True)"
   ]
  },
  {
   "cell_type": "code",
   "execution_count": null,
   "id": "22b202be",
   "metadata": {},
   "outputs": [],
   "source": []
  },
  {
   "cell_type": "code",
   "execution_count": null,
   "id": "a9de6e85",
   "metadata": {},
   "outputs": [],
   "source": [
    "a=ne_dataframe_reset"
   ]
  },
  {
   "cell_type": "code",
   "execution_count": null,
   "id": "6fb09acd",
   "metadata": {},
   "outputs": [],
   "source": [
    "a.duplicated().sum()"
   ]
  },
  {
   "cell_type": "code",
   "execution_count": null,
   "id": "11fb3e18",
   "metadata": {},
   "outputs": [],
   "source": [
    "a.drop_duplicates(inplace=True)"
   ]
  },
  {
   "cell_type": "code",
   "execution_count": null,
   "id": "76d87000",
   "metadata": {},
   "outputs": [],
   "source": [
    "a"
   ]
  },
  {
   "cell_type": "code",
   "execution_count": null,
   "id": "fce03e09",
   "metadata": {},
   "outputs": [],
   "source": [
    "import pandas as pd\n",
    "\n",
    "# Assuming your data is loaded into a DataFrame named 'df'\n",
    "output_file_path = 'output.csv'  # Specify the path for the output CSV file\n",
    "a.to_csv(output_file_path, index=False)  \n",
    "# index=False to exclude the index column in the CSV\n",
    "from IPython.display import FileLink\n",
    "\n",
    "# Assuming you have already created the CSV file using df.to_csv() as mentioned earlier\n",
    "output_file_path = 'output.csv'  # Specify the path for the CSV file\n",
    "\n",
    "# Create a link to download the CSV file\n",
    "FileLink(output_file_path)"
   ]
  }
 ],
 "metadata": {
  "kernelspec": {
   "display_name": "Python 3 (ipykernel)",
   "language": "python",
   "name": "python3"
  },
  "language_info": {
   "codemirror_mode": {
    "name": "ipython",
    "version": 3
   },
   "file_extension": ".py",
   "mimetype": "text/x-python",
   "name": "python",
   "nbconvert_exporter": "python",
   "pygments_lexer": "ipython3",
   "version": "3.9.13"
  }
 },
 "nbformat": 4,
 "nbformat_minor": 5
}
